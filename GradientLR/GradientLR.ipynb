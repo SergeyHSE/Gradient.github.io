{
  "nbformat": 4,
  "nbformat_minor": 0,
  "metadata": {
    "colab": {
      "provenance": [],
      "authorship_tag": "ABX9TyP4v32ft4RvL7x9rGOokZV3",
      "include_colab_link": true
    },
    "kernelspec": {
      "name": "python3",
      "display_name": "Python 3"
    },
    "language_info": {
      "name": "python"
    }
  },
  "cells": [
    {
      "cell_type": "markdown",
      "metadata": {
        "id": "view-in-github",
        "colab_type": "text"
      },
      "source": [
        "<a href=\"https://colab.research.google.com/github/SergeyHSE/Gradient.github.io/blob/main/GradientLR/GradientLR.ipynb\" target=\"_parent\"><img src=\"https://colab.research.google.com/assets/colab-badge.svg\" alt=\"Open In Colab\"/></a>"
      ]
    },
    {
      "cell_type": "markdown",
      "source": [
        "**Each record in the database describes a Boston suburb or town. The data was drawn from the Boston Standard Metropolitan Statistical Area (SMSA) in 1970. The attributes are deﬁned as follows (taken from the UCI Machine Learning Repository1):**\n",
        "\n",
        "\n",
        "CRIM: per capita crime rate by town\n",
        "\n",
        "ZN: proportion of residential land zoned for lots over 25,000 sq.ft.\n",
        "\n",
        "INDUS: proportion of non-retail business acres per town\n",
        "\n",
        "CHAS: Charles River dummy variable (= 1 if tract bounds river; 0 otherwise)\n",
        "\n",
        "NOX: nitric oxides concentration (parts per 10 million)\n",
        "\n",
        "RM: average number of rooms per dwelling\n",
        "\n",
        "AGE: proportion of owner-occupied units built prior to 1940\n",
        "\n",
        "DIS: weighted distances to ﬁve Boston employment centers\n",
        "\n",
        "RAD: index of accessibility to radial highways\n",
        "\n",
        "TAX: full-value property-tax rate per $10,000\n",
        "\n",
        "PTRATIO: pupil-teacher ratio by town 12. B: 1000(Bk−0.63)2 where Bk is the proportion of blacks by town 13. LSTAT: % lower status of the population\n",
        "\n",
        "MEDV: Median value of owner-occupied homes in $1000s\n",
        "\n",
        "\n",
        "We can see that the input attributes have a mixture of units."
      ],
      "metadata": {
        "id": "_lFHcVKxwS7c"
      }
    },
    {
      "cell_type": "code",
      "execution_count": 1,
      "metadata": {
        "id": "djMpHum7v8g0"
      },
      "outputs": [],
      "source": [
        "import pandas as pd\n",
        "import numpy as np\n",
        "import matplotlib.pyplot as plt\n",
        "import seaborn as sns\n",
        "import warnings\n",
        "from sklearn.base import BaseEstimator\n",
        "warnings.filterwarnings('ignore')\n",
        "from sklearn.model_selection import train_test_split\n",
        "pd.set_option('display.max_columns', None)"
      ]
    },
    {
      "cell_type": "code",
      "source": [
        "data = pd.read_csv('/content/BostonHousing.csv')\n",
        "data.head()\n",
        "X = data.drop(['medv'], axis=1)\n",
        "y = data['medv']"
      ],
      "metadata": {
        "id": "b4uis3PvyvP7"
      },
      "execution_count": 2,
      "outputs": []
    },
    {
      "cell_type": "code",
      "source": [
        "#House prise distribution\n",
        "\n",
        "plt.figure(figsize=(10, 8), dpi=60)\n",
        "plt.title('House price distribution')\n",
        "plt.xlabel('Price')\n",
        "plt.ylabel('Samples')\n",
        "plt.hist(y, bins=20)\n",
        "plt.show()"
      ],
      "metadata": {
        "colab": {
          "base_uri": "https://localhost:8080/",
          "height": 438
        },
        "id": "MCZfpj_fzUpa",
        "outputId": "f8540cf2-c21a-4f55-8507-89cf45aefc01"
      },
      "execution_count": 4,
      "outputs": [
        {
          "output_type": "display_data",
          "data": {
            "text/plain": [
              "<Figure size 600x480 with 1 Axes>"
            ],
            "image/png": "[encoded data removed]"
          },
          "metadata": {}
        }
      ]
    },
    {
      "cell_type": "code",
      "source": [
        "# House price outliers\n",
        "plt.figure(figsize=(10, 8), dpi=60)\n",
        "plt.title('House price outliers')\n",
        "plt.boxplot(y)\n",
        "plt.show()"
      ],
      "metadata": {
        "colab": {
          "base_uri": "https://localhost:8080/",
          "height": 426
        },
        "id": "1yKS7lDMzxGP",
        "outputId": "53654dcb-5dee-4c91-d8da-46c8a025c6f6"
      },
      "execution_count": 6,
      "outputs": [
        {
          "output_type": "display_data",
          "data": {
            "text/plain": [
              "<Figure size 600x480 with 1 Axes>"
            ],
            "image/png": "[encoded data removed]"
          },
          "metadata": {}
        }
      ]
    },
    {
      "cell_type": "code",
      "source": [
        "# Find the median, quartile, interquartile regions (IQR)\n",
        "\n",
        "q1 = np.quantile(y, 0.25)\n",
        "q3 = np.quantile(y, 0.75)\n",
        "med = np.median(y)\n",
        "iqr = q3-q1\n",
        "upper_bound = q3+(1.5*iqr)\n",
        "lower_bound = q1-(1.5*iqr)\n",
        "print(iqr, upper_bound, lower_bound)"
      ],
      "metadata": {
        "colab": {
          "base_uri": "https://localhost:8080/"
        },
        "id": "ej7Ccea20Bnq",
        "outputId": "4fb5fb6b-80d2-4ed5-d2ea-0cede656a235"
      },
      "execution_count": 7,
      "outputs": [
        {
          "output_type": "stream",
          "name": "stdout",
          "text": [
            "7.975000000000001 36.962500000000006 5.0624999999999964\n"
          ]
        }
      ]
    },
    {
      "cell_type": "code",
      "source": [
        "outliers = y[(y <= lower_bound) | (y >= upper_bound)]\n",
        "print('Outliers:{}'.format(outliers))\n",
        "\n",
        "y_without_outliers = y[(y <= lower_bound) | (y >= upper_bound)]\n",
        "\n",
        "plt.figure(figsize=(10, 8), dpi=60)\n",
        "plt.boxplot(y_without_outliers)\n",
        "plt.title('House price without outliers')\n",
        "plt.show()"
      ],
      "metadata": {
        "colab": {
          "base_uri": "https://localhost:8080/",
          "height": 1000
        },
        "id": "mAamMiYs0MZX",
        "outputId": "7c126307-8a3e-41fd-c74b-637e536ba770"
      },
      "execution_count": 9,
      "outputs": [
        {
          "output_type": "stream",
          "name": "stdout",
          "text": [
            "Outliers:97     38.7\n",
            "98     43.8\n",
            "157    41.3\n",
            "161    50.0\n",
            "162    50.0\n",
            "163    50.0\n",
            "166    50.0\n",
            "179    37.2\n",
            "180    39.8\n",
            "182    37.9\n",
            "186    50.0\n",
            "190    37.0\n",
            "195    50.0\n",
            "202    42.3\n",
            "203    48.5\n",
            "204    50.0\n",
            "224    44.8\n",
            "225    50.0\n",
            "226    37.6\n",
            "228    46.7\n",
            "232    41.7\n",
            "233    48.3\n",
            "253    42.8\n",
            "256    44.0\n",
            "257    50.0\n",
            "261    43.1\n",
            "262    48.8\n",
            "267    50.0\n",
            "268    43.5\n",
            "280    45.4\n",
            "282    46.0\n",
            "283    50.0\n",
            "291    37.3\n",
            "368    50.0\n",
            "369    50.0\n",
            "370    50.0\n",
            "371    50.0\n",
            "372    50.0\n",
            "398     5.0\n",
            "405     5.0\n",
            "Name: medv, dtype: float64\n"
          ]
        },
        {
          "output_type": "display_data",
          "data": {
            "text/plain": [
              "<Figure size 600x480 with 1 Axes>"
            ],
            "image/png": "[encoded data removed]"
          },
          "metadata": {}
        }
      ]
    },
    {
      "cell_type": "code",
      "source": [
        "y.shape\n",
        "y_without_outliers.shape"
      ],
      "metadata": {
        "colab": {
          "base_uri": "https://localhost:8080/"
        },
        "id": "ZdOFhabX0Sn1",
        "outputId": "ce5e89f3-27a1-4972-b182-f0a9d2c47639"
      },
      "execution_count": 10,
      "outputs": [
        {
          "output_type": "execute_result",
          "data": {
            "text/plain": [
              "(40,)"
            ]
          },
          "metadata": {},
          "execution_count": 10
        }
      ]
    },
    {
      "cell_type": "code",
      "source": [
        "# Apply z-score method\n",
        "\n",
        "from scipy import stats\n",
        "\n",
        "z = np.abs(stats.zscore(y))\n",
        "data_z_score = y[(z < 3)]\n",
        "data_z_score.shape\n",
        "\n",
        "outlier_result_table = pd.DataFrame([[y.shape[0], y_without_outliers.shape[0], data_z_score.shape[0]]],\n",
        "                                    columns=['Initial data', 'IQR', 'Z-score'])\n",
        "print(outlier_result_table)"
      ],
      "metadata": {
        "colab": {
          "base_uri": "https://localhost:8080/"
        },
        "id": "pauygVE90oq9",
        "outputId": "550902bc-8f48-42f9-b299-4b6af3c8a295"
      },
      "execution_count": 11,
      "outputs": [
        {
          "output_type": "stream",
          "name": "stdout",
          "text": [
            "   Initial data  IQR  Z-score\n",
            "0           506   40      506\n"
          ]
        }
      ]
    },
    {
      "cell_type": "code",
      "source": [],
      "metadata": {
        "id": "X6N_y7H20tWi"
      },
      "execution_count": null,
      "outputs": []
    }
  ]
}