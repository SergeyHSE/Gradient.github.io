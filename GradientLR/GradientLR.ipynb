{
  "nbformat": 4,
  "nbformat_minor": 0,
  "metadata": {
    "colab": {
      "provenance": [],
      "authorship_tag": "ABX9TyPS/jx7+Emauo93qXCP69Ev",
      "include_colab_link": true
    },
    "kernelspec": {
      "name": "python3",
      "display_name": "Python 3"
    },
    "language_info": {
      "name": "python"
    }
  },
  "cells": [
    {
      "cell_type": "markdown",
      "metadata": {
        "id": "view-in-github",
        "colab_type": "text"
      },
      "source": [
        "<a href=\"https://colab.research.google.com/github/SergeyHSE/Gradient.github.io/blob/main/GradientLR/GradientLR.ipynb\" target=\"_parent\"><img src=\"https://colab.research.google.com/assets/colab-badge.svg\" alt=\"Open In Colab\"/></a>"
      ]
    },
    {
      "cell_type": "markdown",
      "source": [
        "**Each record in the database describes a Boston suburb or town. The data was drawn from the Boston Standard Metropolitan Statistical Area (SMSA) in 1970. The attributes are deﬁned as follows (taken from the UCI Machine Learning Repository1):**\n",
        "\n",
        "\n",
        "CRIM: per capita crime rate by town\n",
        "\n",
        "ZN: proportion of residential land zoned for lots over 25,000 sq.ft.\n",
        "\n",
        "INDUS: proportion of non-retail business acres per town\n",
        "\n",
        "CHAS: Charles River dummy variable (= 1 if tract bounds river; 0 otherwise)\n",
        "\n",
        "NOX: nitric oxides concentration (parts per 10 million)\n",
        "\n",
        "RM: average number of rooms per dwelling\n",
        "\n",
        "AGE: proportion of owner-occupied units built prior to 1940\n",
        "\n",
        "DIS: weighted distances to ﬁve Boston employment centers\n",
        "\n",
        "RAD: index of accessibility to radial highways\n",
        "\n",
        "TAX: full-value property-tax rate per $10,000\n",
        "\n",
        "PTRATIO: pupil-teacher ratio by town 12. B: 1000(Bk−0.63)2 where Bk is the proportion of blacks by town 13. LSTAT: % lower status of the population\n",
        "\n",
        "MEDV: Median value of owner-occupied homes in $1000s\n",
        "\n",
        "\n",
        "We can see that the input attributes have a mixture of units."
      ],
      "metadata": {
        "id": "_lFHcVKxwS7c"
      }
    },
    {
      "cell_type": "code",
      "execution_count": null,
      "metadata": {
        "id": "djMpHum7v8g0"
      },
      "outputs": [],
      "source": []
    }
  ]
}